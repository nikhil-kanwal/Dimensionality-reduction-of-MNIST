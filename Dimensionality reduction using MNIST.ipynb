{
 "cells": [
  {
   "cell_type": "markdown",
   "id": "6bf7cea4",
   "metadata": {},
   "source": [
    "# loading the data"
   ]
  },
  {
   "cell_type": "code",
   "execution_count": 2,
   "id": "01deecbe",
   "metadata": {},
   "outputs": [],
   "source": [
    "from sklearn.datasets import fetch_openml\n",
    "mnist = fetch_openml(\"mnist_784\",version =1)"
   ]
  },
  {
   "cell_type": "code",
   "execution_count": 3,
   "id": "eb745f39",
   "metadata": {},
   "outputs": [
    {
     "data": {
      "text/plain": [
       "dict_keys(['data', 'target', 'frame', 'categories', 'feature_names', 'target_names', 'DESCR', 'details', 'url'])"
      ]
     },
     "execution_count": 3,
     "metadata": {},
     "output_type": "execute_result"
    }
   ],
   "source": [
    "mnist.keys()"
   ]
  },
  {
   "cell_type": "code",
   "execution_count": 7,
   "id": "7c8beafe",
   "metadata": {},
   "outputs": [],
   "source": [
    "X,y = mnist[\"data\"],mnist[\"target\"]"
   ]
  },
  {
   "cell_type": "markdown",
   "id": "ea322c59",
   "metadata": {},
   "source": [
    "# Preprocessing the data"
   ]
  },
  {
   "cell_type": "code",
   "execution_count": 14,
   "id": "cddc3b50",
   "metadata": {},
   "outputs": [],
   "source": [
    "X_train,X_test,y_train,y_test = X[:60000],X[60000:],y[:60000],y[60000:]"
   ]
  },
  {
   "cell_type": "markdown",
   "id": "b799b9d9",
   "metadata": {},
   "source": [
    "# Training on a model"
   ]
  },
  {
   "cell_type": "code",
   "execution_count": 21,
   "id": "72a3ee5c",
   "metadata": {},
   "outputs": [],
   "source": [
    "from sklearn.ensemble import RandomForestClassifier\n",
    "\n",
    "random_clf = RandomForestClassifier(n_estimators = 100, random_state=42)"
   ]
  },
  {
   "cell_type": "code",
   "execution_count": 22,
   "id": "1881de0b",
   "metadata": {},
   "outputs": [],
   "source": [
    "import time\n",
    "\n",
    "t0 = time.time()\n",
    "random_clf.fit(X_train,y_train)\n",
    "t1 = time.time()"
   ]
  },
  {
   "cell_type": "code",
   "execution_count": 24,
   "id": "01877b80",
   "metadata": {},
   "outputs": [
    {
     "name": "stdout",
     "output_type": "stream",
     "text": [
      "Training took 62.34199547767639\n"
     ]
    }
   ],
   "source": [
    "print(f\"Training took {t1-t0}\")"
   ]
  },
  {
   "cell_type": "code",
   "execution_count": 29,
   "id": "30ba5f04",
   "metadata": {},
   "outputs": [
    {
     "data": {
      "text/plain": [
       "0.9705"
      ]
     },
     "execution_count": 29,
     "metadata": {},
     "output_type": "execute_result"
    }
   ],
   "source": [
    "from sklearn.metrics import accuracy_score\n",
    "\n",
    "y_pred = random_clf.predict(X_test)\n",
    "accuracy_score(y_test,y_pred)"
   ]
  },
  {
   "cell_type": "markdown",
   "id": "679aba00",
   "metadata": {},
   "source": [
    "# Now we will reduce the dimenisonality of the dataset using PCA"
   ]
  },
  {
   "cell_type": "code",
   "execution_count": 30,
   "id": "79a24d2e",
   "metadata": {},
   "outputs": [],
   "source": [
    "from sklearn.decomposition import PCA\n",
    "\n",
    "pca = PCA(n_components = 0.95)\n",
    "X_train_reduced = pca.fit_transform(X_train)\n",
    "X_test_reduced = pca.transform(X_test)"
   ]
  },
  {
   "cell_type": "code",
   "execution_count": 31,
   "id": "18fc7405",
   "metadata": {},
   "outputs": [
    {
     "data": {
      "text/plain": [
       "(60000, 154)"
      ]
     },
     "execution_count": 31,
     "metadata": {},
     "output_type": "execute_result"
    }
   ],
   "source": [
    "X_train_reduced.shape"
   ]
  },
  {
   "cell_type": "markdown",
   "id": "739e8716",
   "metadata": {},
   "source": [
    "measuring the time to train after reducing dimensions"
   ]
  },
  {
   "cell_type": "code",
   "execution_count": 32,
   "id": "09870898",
   "metadata": {},
   "outputs": [],
   "source": [
    "t0 = time.time()\n",
    "random_clf.fit(X_train_reduced,y_train)\n",
    "t1 = time.time()"
   ]
  },
  {
   "cell_type": "code",
   "execution_count": 33,
   "id": "58cd5092",
   "metadata": {},
   "outputs": [
    {
     "name": "stdout",
     "output_type": "stream",
     "text": [
      "Time taken for training 145.58642625808716\n"
     ]
    }
   ],
   "source": [
    "print(f\"Time taken for training {t1-t0}\")"
   ]
  },
  {
   "cell_type": "code",
   "execution_count": 35,
   "id": "5f8589c8",
   "metadata": {},
   "outputs": [
    {
     "data": {
      "text/plain": [
       "0.9481"
      ]
     },
     "execution_count": 35,
     "metadata": {},
     "output_type": "execute_result"
    }
   ],
   "source": [
    "y_pred_reduced = random_clf.predict(X_test_reduced)\n",
    "accuracy_score(y_test,y_pred_reduced)"
   ]
  },
  {
   "cell_type": "markdown",
   "id": "e8ffeb09",
   "metadata": {},
   "source": [
    "The model trained with reduced dimensions of data is not faster than the original data as we might expect because \n",
    "it also depend on the dataset and the model we are using .\n",
    "There is a significant drop in accuracy since reducing dimensions losses some information.\n"
   ]
  },
  {
   "cell_type": "code",
   "execution_count": null,
   "id": "f06977c3",
   "metadata": {},
   "outputs": [],
   "source": []
  }
 ],
 "metadata": {
  "kernelspec": {
   "display_name": "Python 3",
   "language": "python",
   "name": "python3"
  },
  "language_info": {
   "codemirror_mode": {
    "name": "ipython",
    "version": 3
   },
   "file_extension": ".py",
   "mimetype": "text/x-python",
   "name": "python",
   "nbconvert_exporter": "python",
   "pygments_lexer": "ipython3",
   "version": "3.8.8"
  }
 },
 "nbformat": 4,
 "nbformat_minor": 5
}
